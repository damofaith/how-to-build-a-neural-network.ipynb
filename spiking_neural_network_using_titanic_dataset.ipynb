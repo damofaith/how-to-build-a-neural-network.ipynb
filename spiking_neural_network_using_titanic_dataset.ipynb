{
  "nbformat": 4,
  "nbformat_minor": 0,
  "metadata": {
    "colab": {
      "provenance": []
    },
    "kernelspec": {
      "name": "python3",
      "display_name": "Python 3"
    },
    "language_info": {
      "name": "python"
    }
  },
  "cells": [
    {
      "cell_type": "code",
      "execution_count": 1,
      "metadata": {
        "id": "lojvh4HyM-lU"
      },
      "outputs": [],
      "source": [
        "import numpy as np # linear algebra\n",
        "np.random.seed(10)\n",
        "import pandas as pd # data processing, CSV file I/O (e.g. pd.read_csv)\n",
        "import matplotlib.pyplot as plt\n",
        "import seaborn as sns"
      ]
    },
    {
      "cell_type": "code",
      "source": [
        "# Required magic to display matplotlib plots in notebooks\n",
        "%matplotlib inline\n",
        "\n",
        "from sklearn import metrics\n",
        "from sklearn.metrics import accuracy_score, confusion_matrix\n",
        "from sklearn.model_selection import train_test_split"
      ],
      "metadata": {
        "id": "cxhW7MAmOnKY"
      },
      "execution_count": 2,
      "outputs": []
    },
    {
      "cell_type": "code",
      "source": [
        "# Input data files are available in the \"../input/\" directory.\n",
        "        \n",
        "data = pd.read_csv('/content/train.csv')\n",
        "\n",
        "data.head(10)"
      ],
      "metadata": {
        "colab": {
          "base_uri": "https://localhost:8080/",
          "height": 633
        },
        "id": "4Z0H3EGEQ0U-",
        "outputId": "8f74a440-f55d-4ff7-f20d-d24f572790ad"
      },
      "execution_count": 16,
      "outputs": [
        {
          "output_type": "execute_result",
          "data": {
            "text/plain": [
              "   PassengerId  Survived  Pclass  \\\n",
              "0            1         0       3   \n",
              "1            2         1       1   \n",
              "2            3         1       3   \n",
              "3            4         1       1   \n",
              "4            5         0       3   \n",
              "5            6         0       3   \n",
              "6            7         0       1   \n",
              "7            8         0       3   \n",
              "8            9         1       3   \n",
              "9           10         1       2   \n",
              "\n",
              "                                                Name     Sex   Age  SibSp  \\\n",
              "0                            Braund, Mr. Owen Harris    male  22.0      1   \n",
              "1  Cumings, Mrs. John Bradley (Florence Briggs Th...  female  38.0      1   \n",
              "2                             Heikkinen, Miss. Laina  female  26.0      0   \n",
              "3       Futrelle, Mrs. Jacques Heath (Lily May Peel)  female  35.0      1   \n",
              "4                           Allen, Mr. William Henry    male  35.0      0   \n",
              "5                                   Moran, Mr. James    male   NaN      0   \n",
              "6                            McCarthy, Mr. Timothy J    male  54.0      0   \n",
              "7                     Palsson, Master. Gosta Leonard    male   2.0      3   \n",
              "8  Johnson, Mrs. Oscar W (Elisabeth Vilhelmina Berg)  female  27.0      0   \n",
              "9                Nasser, Mrs. Nicholas (Adele Achem)  female  14.0      1   \n",
              "\n",
              "   Parch            Ticket     Fare Cabin Embarked  \n",
              "0      0         A/5 21171   7.2500   NaN        S  \n",
              "1      0          PC 17599  71.2833   C85        C  \n",
              "2      0  STON/O2. 3101282   7.9250   NaN        S  \n",
              "3      0            113803  53.1000  C123        S  \n",
              "4      0            373450   8.0500   NaN        S  \n",
              "5      0            330877   8.4583   NaN        Q  \n",
              "6      0             17463  51.8625   E46        S  \n",
              "7      1            349909  21.0750   NaN        S  \n",
              "8      2            347742  11.1333   NaN        S  \n",
              "9      0            237736  30.0708   NaN        C  "
            ],
            "text/html": [
              "\n",
              "  <div id=\"df-cbd41759-7470-4f80-86cb-4fd14a7fb1b6\">\n",
              "    <div class=\"colab-df-container\">\n",
              "      <div>\n",
              "<style scoped>\n",
              "    .dataframe tbody tr th:only-of-type {\n",
              "        vertical-align: middle;\n",
              "    }\n",
              "\n",
              "    .dataframe tbody tr th {\n",
              "        vertical-align: top;\n",
              "    }\n",
              "\n",
              "    .dataframe thead th {\n",
              "        text-align: right;\n",
              "    }\n",
              "</style>\n",
              "<table border=\"1\" class=\"dataframe\">\n",
              "  <thead>\n",
              "    <tr style=\"text-align: right;\">\n",
              "      <th></th>\n",
              "      <th>PassengerId</th>\n",
              "      <th>Survived</th>\n",
              "      <th>Pclass</th>\n",
              "      <th>Name</th>\n",
              "      <th>Sex</th>\n",
              "      <th>Age</th>\n",
              "      <th>SibSp</th>\n",
              "      <th>Parch</th>\n",
              "      <th>Ticket</th>\n",
              "      <th>Fare</th>\n",
              "      <th>Cabin</th>\n",
              "      <th>Embarked</th>\n",
              "    </tr>\n",
              "  </thead>\n",
              "  <tbody>\n",
              "    <tr>\n",
              "      <th>0</th>\n",
              "      <td>1</td>\n",
              "      <td>0</td>\n",
              "      <td>3</td>\n",
              "      <td>Braund, Mr. Owen Harris</td>\n",
              "      <td>male</td>\n",
              "      <td>22.0</td>\n",
              "      <td>1</td>\n",
              "      <td>0</td>\n",
              "      <td>A/5 21171</td>\n",
              "      <td>7.2500</td>\n",
              "      <td>NaN</td>\n",
              "      <td>S</td>\n",
              "    </tr>\n",
              "    <tr>\n",
              "      <th>1</th>\n",
              "      <td>2</td>\n",
              "      <td>1</td>\n",
              "      <td>1</td>\n",
              "      <td>Cumings, Mrs. John Bradley (Florence Briggs Th...</td>\n",
              "      <td>female</td>\n",
              "      <td>38.0</td>\n",
              "      <td>1</td>\n",
              "      <td>0</td>\n",
              "      <td>PC 17599</td>\n",
              "      <td>71.2833</td>\n",
              "      <td>C85</td>\n",
              "      <td>C</td>\n",
              "    </tr>\n",
              "    <tr>\n",
              "      <th>2</th>\n",
              "      <td>3</td>\n",
              "      <td>1</td>\n",
              "      <td>3</td>\n",
              "      <td>Heikkinen, Miss. Laina</td>\n",
              "      <td>female</td>\n",
              "      <td>26.0</td>\n",
              "      <td>0</td>\n",
              "      <td>0</td>\n",
              "      <td>STON/O2. 3101282</td>\n",
              "      <td>7.9250</td>\n",
              "      <td>NaN</td>\n",
              "      <td>S</td>\n",
              "    </tr>\n",
              "    <tr>\n",
              "      <th>3</th>\n",
              "      <td>4</td>\n",
              "      <td>1</td>\n",
              "      <td>1</td>\n",
              "      <td>Futrelle, Mrs. Jacques Heath (Lily May Peel)</td>\n",
              "      <td>female</td>\n",
              "      <td>35.0</td>\n",
              "      <td>1</td>\n",
              "      <td>0</td>\n",
              "      <td>113803</td>\n",
              "      <td>53.1000</td>\n",
              "      <td>C123</td>\n",
              "      <td>S</td>\n",
              "    </tr>\n",
              "    <tr>\n",
              "      <th>4</th>\n",
              "      <td>5</td>\n",
              "      <td>0</td>\n",
              "      <td>3</td>\n",
              "      <td>Allen, Mr. William Henry</td>\n",
              "      <td>male</td>\n",
              "      <td>35.0</td>\n",
              "      <td>0</td>\n",
              "      <td>0</td>\n",
              "      <td>373450</td>\n",
              "      <td>8.0500</td>\n",
              "      <td>NaN</td>\n",
              "      <td>S</td>\n",
              "    </tr>\n",
              "    <tr>\n",
              "      <th>5</th>\n",
              "      <td>6</td>\n",
              "      <td>0</td>\n",
              "      <td>3</td>\n",
              "      <td>Moran, Mr. James</td>\n",
              "      <td>male</td>\n",
              "      <td>NaN</td>\n",
              "      <td>0</td>\n",
              "      <td>0</td>\n",
              "      <td>330877</td>\n",
              "      <td>8.4583</td>\n",
              "      <td>NaN</td>\n",
              "      <td>Q</td>\n",
              "    </tr>\n",
              "    <tr>\n",
              "      <th>6</th>\n",
              "      <td>7</td>\n",
              "      <td>0</td>\n",
              "      <td>1</td>\n",
              "      <td>McCarthy, Mr. Timothy J</td>\n",
              "      <td>male</td>\n",
              "      <td>54.0</td>\n",
              "      <td>0</td>\n",
              "      <td>0</td>\n",
              "      <td>17463</td>\n",
              "      <td>51.8625</td>\n",
              "      <td>E46</td>\n",
              "      <td>S</td>\n",
              "    </tr>\n",
              "    <tr>\n",
              "      <th>7</th>\n",
              "      <td>8</td>\n",
              "      <td>0</td>\n",
              "      <td>3</td>\n",
              "      <td>Palsson, Master. Gosta Leonard</td>\n",
              "      <td>male</td>\n",
              "      <td>2.0</td>\n",
              "      <td>3</td>\n",
              "      <td>1</td>\n",
              "      <td>349909</td>\n",
              "      <td>21.0750</td>\n",
              "      <td>NaN</td>\n",
              "      <td>S</td>\n",
              "    </tr>\n",
              "    <tr>\n",
              "      <th>8</th>\n",
              "      <td>9</td>\n",
              "      <td>1</td>\n",
              "      <td>3</td>\n",
              "      <td>Johnson, Mrs. Oscar W (Elisabeth Vilhelmina Berg)</td>\n",
              "      <td>female</td>\n",
              "      <td>27.0</td>\n",
              "      <td>0</td>\n",
              "      <td>2</td>\n",
              "      <td>347742</td>\n",
              "      <td>11.1333</td>\n",
              "      <td>NaN</td>\n",
              "      <td>S</td>\n",
              "    </tr>\n",
              "    <tr>\n",
              "      <th>9</th>\n",
              "      <td>10</td>\n",
              "      <td>1</td>\n",
              "      <td>2</td>\n",
              "      <td>Nasser, Mrs. Nicholas (Adele Achem)</td>\n",
              "      <td>female</td>\n",
              "      <td>14.0</td>\n",
              "      <td>1</td>\n",
              "      <td>0</td>\n",
              "      <td>237736</td>\n",
              "      <td>30.0708</td>\n",
              "      <td>NaN</td>\n",
              "      <td>C</td>\n",
              "    </tr>\n",
              "  </tbody>\n",
              "</table>\n",
              "</div>\n",
              "      <button class=\"colab-df-convert\" onclick=\"convertToInteractive('df-cbd41759-7470-4f80-86cb-4fd14a7fb1b6')\"\n",
              "              title=\"Convert this dataframe to an interactive table.\"\n",
              "              style=\"display:none;\">\n",
              "        \n",
              "  <svg xmlns=\"http://www.w3.org/2000/svg\" height=\"24px\"viewBox=\"0 0 24 24\"\n",
              "       width=\"24px\">\n",
              "    <path d=\"M0 0h24v24H0V0z\" fill=\"none\"/>\n",
              "    <path d=\"M18.56 5.44l.94 2.06.94-2.06 2.06-.94-2.06-.94-.94-2.06-.94 2.06-2.06.94zm-11 1L8.5 8.5l.94-2.06 2.06-.94-2.06-.94L8.5 2.5l-.94 2.06-2.06.94zm10 10l.94 2.06.94-2.06 2.06-.94-2.06-.94-.94-2.06-.94 2.06-2.06.94z\"/><path d=\"M17.41 7.96l-1.37-1.37c-.4-.4-.92-.59-1.43-.59-.52 0-1.04.2-1.43.59L10.3 9.45l-7.72 7.72c-.78.78-.78 2.05 0 2.83L4 21.41c.39.39.9.59 1.41.59.51 0 1.02-.2 1.41-.59l7.78-7.78 2.81-2.81c.8-.78.8-2.07 0-2.86zM5.41 20L4 18.59l7.72-7.72 1.47 1.35L5.41 20z\"/>\n",
              "  </svg>\n",
              "      </button>\n",
              "      \n",
              "  <style>\n",
              "    .colab-df-container {\n",
              "      display:flex;\n",
              "      flex-wrap:wrap;\n",
              "      gap: 12px;\n",
              "    }\n",
              "\n",
              "    .colab-df-convert {\n",
              "      background-color: #E8F0FE;\n",
              "      border: none;\n",
              "      border-radius: 50%;\n",
              "      cursor: pointer;\n",
              "      display: none;\n",
              "      fill: #1967D2;\n",
              "      height: 32px;\n",
              "      padding: 0 0 0 0;\n",
              "      width: 32px;\n",
              "    }\n",
              "\n",
              "    .colab-df-convert:hover {\n",
              "      background-color: #E2EBFA;\n",
              "      box-shadow: 0px 1px 2px rgba(60, 64, 67, 0.3), 0px 1px 3px 1px rgba(60, 64, 67, 0.15);\n",
              "      fill: #174EA6;\n",
              "    }\n",
              "\n",
              "    [theme=dark] .colab-df-convert {\n",
              "      background-color: #3B4455;\n",
              "      fill: #D2E3FC;\n",
              "    }\n",
              "\n",
              "    [theme=dark] .colab-df-convert:hover {\n",
              "      background-color: #434B5C;\n",
              "      box-shadow: 0px 1px 3px 1px rgba(0, 0, 0, 0.15);\n",
              "      filter: drop-shadow(0px 1px 2px rgba(0, 0, 0, 0.3));\n",
              "      fill: #FFFFFF;\n",
              "    }\n",
              "  </style>\n",
              "\n",
              "      <script>\n",
              "        const buttonEl =\n",
              "          document.querySelector('#df-cbd41759-7470-4f80-86cb-4fd14a7fb1b6 button.colab-df-convert');\n",
              "        buttonEl.style.display =\n",
              "          google.colab.kernel.accessAllowed ? 'block' : 'none';\n",
              "\n",
              "        async function convertToInteractive(key) {\n",
              "          const element = document.querySelector('#df-cbd41759-7470-4f80-86cb-4fd14a7fb1b6');\n",
              "          const dataTable =\n",
              "            await google.colab.kernel.invokeFunction('convertToInteractive',\n",
              "                                                     [key], {});\n",
              "          if (!dataTable) return;\n",
              "\n",
              "          const docLinkHtml = 'Like what you see? Visit the ' +\n",
              "            '<a target=\"_blank\" href=https://colab.research.google.com/notebooks/data_table.ipynb>data table notebook</a>'\n",
              "            + ' to learn more about interactive tables.';\n",
              "          element.innerHTML = '';\n",
              "          dataTable['output_type'] = 'display_data';\n",
              "          await google.colab.output.renderOutput(dataTable, element);\n",
              "          const docLink = document.createElement('div');\n",
              "          docLink.innerHTML = docLinkHtml;\n",
              "          element.appendChild(docLink);\n",
              "        }\n",
              "      </script>\n",
              "    </div>\n",
              "  </div>\n",
              "  "
            ]
          },
          "metadata": {},
          "execution_count": 16
        }
      ]
    },
    {
      "cell_type": "code",
      "source": [
        "data.columns"
      ],
      "metadata": {
        "colab": {
          "base_uri": "https://localhost:8080/"
        },
        "id": "jqO7IKikGdO5",
        "outputId": "fd39d3b9-1e9d-4233-af1a-03930dafc87a"
      },
      "execution_count": 17,
      "outputs": [
        {
          "output_type": "execute_result",
          "data": {
            "text/plain": [
              "Index(['PassengerId', 'Survived', 'Pclass', 'Name', 'Sex', 'Age', 'SibSp',\n",
              "       'Parch', 'Ticket', 'Fare', 'Cabin', 'Embarked'],\n",
              "      dtype='object')"
            ]
          },
          "metadata": {},
          "execution_count": 17
        }
      ]
    },
    {
      "cell_type": "markdown",
      "source": [
        "I use a very basic Multi-Layer Perceptron to predict if a set of passengers survived; as a feature, I only use the Passenger Class for sake of simplicity."
      ],
      "metadata": {
        "id": "5wGFye8lR0AK"
      }
    },
    {
      "cell_type": "code",
      "source": [
        "# We define a dictionary to transform the 0,1 values in the labels to a String that defines the fate of the passenger\n",
        "dict_live = { \n",
        "    0 : 'Perished',\n",
        "    1 : 'Survived'\n",
        "}\n",
        "\n",
        "# We define a dictionary to binarize the sex\n",
        "dict_sex = {\n",
        "    'male' : 0,\n",
        "    'female' : 1\n",
        "}\n",
        "\n",
        "# We apply the dictionary using a lambda function and the pandas .apply() module\n",
        "data['Bsex'] = data['Sex'].apply(lambda x : dict_sex[x])\n",
        "\n",
        "\n",
        "# Now the features are a 2 column matrix whose entries are the Class (1,2,3) and the Sex (0,1) of the passengers\n",
        "features = data[['Pclass', 'Bsex']].to_numpy()\n",
        "labels = data['Survived'].to_numpy()"
      ],
      "metadata": {
        "id": "CRmcC0ztR2H1"
      },
      "execution_count": 18,
      "outputs": []
    },
    {
      "cell_type": "code",
      "source": [
        "# Define the sigmoid activator; we ask if we want the sigmoid or its derivative\n",
        "def sigmoid_act(x, der=False):\n",
        "    import numpy as np\n",
        "    \n",
        "    if (der==True) : #derivative of the sigmoid\n",
        "        f = x/(1-x)\n",
        "    else : # sigmoid\n",
        "        f = 1/(1+ np.exp(-x))\n",
        "    \n",
        "    return f\n",
        "\n",
        "# We may employ the Rectifier Linear Unit (ReLU)\n",
        "def ReLU_act(x, der=False):\n",
        "    import numpy as np\n",
        "    \n",
        "    if (der== True):\n",
        "        if x>0 :\n",
        "            f= 1\n",
        "        else :\n",
        "            f = 0\n",
        "    else :\n",
        "        if x>0:\n",
        "            f = x\n",
        "        else :\n",
        "            f = 0\n",
        "    return f\n",
        "\n",
        "# Now we are ready to define the perceptron; \n",
        "# it eats a np.array (that may be a list of features )\n",
        "def perceptron(X, act='Sigmoid'): \n",
        "    import numpy as np\n",
        "    \n",
        "    shapes = X.shape # Pick the number of (rows, columns)!\n",
        "    n= shapes[0]+shapes[1]\n",
        "    # Generating random weights and bias\n",
        "    w = 2*np.random.random(shapes) - 0.5 # We want w to be between -1 and 1\n",
        "    b = np.random.random(1)\n",
        "    \n",
        "    # Initialize the function\n",
        "    f = b[0]\n",
        "    for i in range(0, X.shape[0]-1) : # run over column elements\n",
        "        for j in range(0, X.shape[1]-1) : # run over rows elements\n",
        "            f += w[i, j]*X[i,j]/n\n",
        "    # Pass it to the activation function and return it as an output\n",
        "    if act == 'Sigmoid':\n",
        "        output = sigmoid_act(f)\n",
        "    else :\n",
        "        output = ReLU_act(f)\n",
        "        \n",
        "    return output"
      ],
      "metadata": {
        "id": "CQsSQs3hVc3W"
      },
      "execution_count": 19,
      "outputs": []
    },
    {
      "cell_type": "code",
      "source": [
        "print('Output with sigmoid activator: ', perceptron(features))\n",
        "print('Output with ReLU activator: ', perceptron(features))"
      ],
      "metadata": {
        "colab": {
          "base_uri": "https://localhost:8080/"
        },
        "id": "99-dduSkVsZp",
        "outputId": "8bcf5a2e-3c8d-4fe4-ee58-0af58f8c96aa"
      },
      "execution_count": 20,
      "outputs": [
        {
          "output_type": "stream",
          "name": "stdout",
          "text": [
            "Output with sigmoid activator:  0.8536800619299082\n",
            "Output with ReLU activator:  0.8515450291672023\n"
          ]
        }
      ]
    },
    {
      "cell_type": "code",
      "source": [
        "import numpy as np\n",
        "\n",
        "# Define the sigmoid activator; we ask if we want the sigmoid or its derivative\n",
        "def sigmoid_act(x, der=False):\n",
        "    import numpy as np\n",
        "    \n",
        "    if (der==True) : #derivative of the sigmoid\n",
        "        f = 1/(1+ np.exp(- x))*(1-1/(1+ np.exp(- x)))\n",
        "    else : # sigmoid\n",
        "        f = 1/(1+ np.exp(- x))\n",
        "    \n",
        "    return f\n",
        "\n",
        "# We may employ the Rectifier Linear Unit (ReLU)\n",
        "def ReLU_act(x, der=False):\n",
        "    import numpy as np\n",
        "    \n",
        "    if (der == True): # the derivative of the ReLU is the Heaviside Theta\n",
        "        f = np.heaviside(x, 1)\n",
        "    else :\n",
        "        f = np.maximum(x, 0)\n",
        "    \n",
        "    return f"
      ],
      "metadata": {
        "id": "guoCF1adg0ut"
      },
      "execution_count": 23,
      "outputs": []
    },
    {
      "cell_type": "code",
      "source": [
        "# split into training and testing sets\n",
        "from sklearn.model_selection import train_test_split\n",
        "\n",
        "X_train, X_test, Y_train, Y_test = train_test_split(features, labels, test_size=0.30)\n",
        "\n",
        "print('Training records:',Y_train.size)\n",
        "print('Test records:',Y_test.size)"
      ],
      "metadata": {
        "colab": {
          "base_uri": "https://localhost:8080/"
        },
        "id": "OPgg6iJXg4hr",
        "outputId": "c8f64f7a-3b1e-4c50-93cd-bc71e9f6fc4b"
      },
      "execution_count": 24,
      "outputs": [
        {
          "output_type": "stream",
          "name": "stdout",
          "text": [
            "Training records: 623\n",
            "Test records: 268\n"
          ]
        }
      ]
    },
    {
      "cell_type": "markdown",
      "source": [
        "training the model "
      ],
      "metadata": {
        "id": "FqcgnuaqhC1B"
      }
    },
    {
      "cell_type": "code",
      "source": [
        "# Set up the number of perceptron per each layer:\n",
        "p=4 # Layer 1\n",
        "q=4 # Layer 2\n",
        "\n",
        "# Set up the Learning rate\n",
        "eta =  1/623\n",
        "\n",
        "\n",
        "# 0: Random initialize the relevant data \n",
        "w1 = 2*np.random.rand(p , X_train.shape[1]) - 0.5 # Layer 1\n",
        "b1 = np.random.rand(p)\n",
        "\n",
        "w2 = 2*np.random.rand(q , p) - 0.5  # Layer 2\n",
        "b2 = np.random.rand(q)\n",
        "\n",
        "wOut = 2*np.random.rand(q) - 0.5  # Output Layer\n",
        "bOut = np.random.rand(1)\n",
        "\n",
        "mu = []\n",
        "vec_y = []\n",
        "\n",
        "# Start looping over the passengers, i.e. over I.\n",
        "\n",
        "for I in range(0, X_train.shape[0]): #loop in all the passengers:\n",
        "    \n",
        "    # 1: input the data \n",
        "    x = X_train[I]\n",
        "    \n",
        "    \n",
        "    # 2: Start the algorithm\n",
        "    \n",
        "    # 2.1: Feed forward\n",
        "    z1 = ReLU_act(np.dot(w1, x) + b1) # output layer 1 \n",
        "    z2 = ReLU_act(np.dot(w2, z1) + b2) # output layer 2\n",
        "    y = sigmoid_act(np.dot(wOut, z2) + bOut) # Output of the Output layer\n",
        "    \n",
        "    #2.2: Compute the output layer's error\n",
        "    delta_Out =  (y-Y_train[I]) * sigmoid_act(y, der=True)\n",
        "    \n",
        "    #2.3: Backpropagate\n",
        "    delta_2 = delta_Out * wOut * ReLU_act(z2, der=True) # Second Layer Error\n",
        "    delta_1 = np.dot(delta_2, w2) * ReLU_act(z1, der=True) # First Layer Error\n",
        "    \n",
        "    # 3: Gradient descent \n",
        "    wOut = wOut - eta*delta_Out*z2  # Outer Layer\n",
        "    bOut = bOut - eta*delta_Out\n",
        "    \n",
        "    w2 = w2 - eta*np.kron(delta_2, z1).reshape(q,p) # Hidden Layer 2\n",
        "    b2 = b2 - eta*delta_2\n",
        "    \n",
        "    w1 = w1 - eta*np.kron(delta_1, x).reshape(p, x.shape[0]) # Hidden Layer 1\n",
        "    b1 = b1 - eta*delta_1\n",
        "    \n",
        "    # 4. Computation of the loss function\n",
        "    mu.append((1/2)*(y-Y_train[I])**2)\n",
        "    vec_y.append(y[0])\n",
        "\n",
        "\n",
        "# Plotting the Cost function for each training data     \n",
        "plt.figure(figsize=(10,6))\n",
        "plt.scatter(np.arange(0, X_train.shape[0]), mu, alpha=0.3, s=4, label='mu')\n",
        "plt.title('Loss for each training data point', fontsize=20)\n",
        "plt.xlabel('Training data', fontsize=16)\n",
        "plt.ylabel('Loss', fontsize=16)\n",
        "plt.show()\n",
        "\n",
        "# Plotting the average cost function over 10 training data    \n",
        "pino = []\n",
        "for i in range(0, 9):\n",
        "    pippo = 0\n",
        "    for m in range(0, 59):\n",
        "        pippo+=vec_y[60*i+m]/60\n",
        "    pino.append(pippo)\n",
        "    \n",
        "    \n",
        "\n",
        "plt.figure(figsize=(10,6))\n",
        "plt.scatter(np.arange(0, 9), pino, alpha=1, s=10, label='error')\n",
        "plt.title('Averege Loss by epoch', fontsize=20)\n",
        "plt.xlabel('Epoch', fontsize=16)\n",
        "plt.ylabel('Loss', fontsize=16)\n",
        "plt.show()"
      ],
      "metadata": {
        "colab": {
          "base_uri": "https://localhost:8080/",
          "height": 1000
        },
        "id": "T-jKGba9hFr5",
        "outputId": "43317234-ddcb-4578-ade8-6c5d183ea606"
      },
      "execution_count": 25,
      "outputs": [
        {
          "output_type": "display_data",
          "data": {
            "text/plain": [
              "<Figure size 1000x600 with 1 Axes>"
            ],
            "image/png": "[encoded data removed]"
          },
          "metadata": {}
        },
        {
          "output_type": "display_data",
          "data": {
            "text/plain": [
              "<Figure size 1000x600 with 1 Axes>"
            ],
            "image/png": "[encoded data removed]"
          },
          "metadata": {}
        }
      ]
    },
    {
      "cell_type": "markdown",
      "source": [
        "Define \n",
        "\n",
        "\n",
        "the Training as a Function\n",
        "Since we have learnt how to train an ANN, we are in the position of define a function that does that, by eating the X_train, Y_train as well as the number of perceptron  p,q\n",
        "  for the first and second hidden layer, and the learning rate  η\n",
        " ."
      ],
      "metadata": {
        "id": "S0ZnmHsHhaq_"
      }
    },
    {
      "cell_type": "code",
      "source": [
        "def ANN_train(X_train, Y_train, p=4, q=4, eta=0.0015):\n",
        "    import numpy as np\n",
        "    import matplotlib.pyplot as plt\n",
        "    \n",
        "    # 0: Random initialize the relevant data \n",
        "    w1 = 2*np.random.rand(p , X_train.shape[1]) - 0.5 # Layer 1\n",
        "    b1 = np.random.rand(p)\n",
        "\n",
        "    w2 = 2*np.random.rand(q , p) - 0.5  # Layer 2\n",
        "    b2 = np.random.rand(q)\n",
        "\n",
        "    wOut = 2*np.random.rand(q) - 0.5   # Output Layer\n",
        "    bOut = np.random.rand(1)\n",
        "\n",
        "    mu = []\n",
        "    vec_y = []\n",
        "\n",
        "    # Start looping over the passengers, i.e. over I.\n",
        "\n",
        "    for I in range(0, X_train.shape[0]-1): #loop in all the passengers:\n",
        "    \n",
        "        # 1: input the data \n",
        "        x = X_train[I]\n",
        "    \n",
        "        # 2: Start the algorithm\n",
        "    \n",
        "        # 2.1: Feed forward\n",
        "        z1 = ReLU_act(np.dot(w1, x) + b1) # output layer 1 \n",
        "        z2 = ReLU_act(np.dot(w2, z1) + b2) # output layer 2\n",
        "        y = sigmoid_act(np.dot(wOut, z2) + bOut) # Output of the Output layer\n",
        "    \n",
        "        #2.2: Compute the output layer's error\n",
        "        delta_Out = 2 * (y-Y_train[I]) * sigmoid_act(y, der=True)\n",
        "    \n",
        "        #2.3: Backpropagate\n",
        "        delta_2 = delta_Out * wOut * ReLU_act(z2, der=True) # Second Layer Error\n",
        "        delta_1 = np.dot(delta_2, w2) * ReLU_act(z1, der=True) # First Layer Error\n",
        "    \n",
        "        # 3: Gradient descent \n",
        "        wOut = wOut - eta*delta_Out*z2  # Outer Layer\n",
        "        bOut = bOut - eta*delta_Out\n",
        "    \n",
        "        w2 = w2 - eta*np.kron(delta_2, z1).reshape(q,p) # Hidden Layer 2\n",
        "        b2 = b2 -  eta*delta_2\n",
        "    \n",
        "        w1 = w1 - eta*np.kron(delta_1, x).reshape(p, x.shape[0])\n",
        "        b1 = b1 - eta*delta_1\n",
        "    \n",
        "        # 4. Computation of the loss function\n",
        "        mu.append((y-Y_train[I])**2)\n",
        "        vec_y.append(y)\n",
        "    \n",
        "    batch_loss = []\n",
        "    for i in range(0, 10):\n",
        "        loss_avg = 0\n",
        "        for m in range(0, 60):\n",
        "            loss_avg+=vec_y[60*i+m]/60\n",
        "        batch_loss.append(loss_avg)\n",
        "    \n",
        "    \n",
        "    plt.figure(figsize=(10,6))\n",
        "    plt.scatter(np.arange(1, len(batch_loss)+1), batch_loss, alpha=1, s=10, label='error')\n",
        "    plt.title('Averege Loss by epoch', fontsize=20)\n",
        "    plt.xlabel('Epoch', fontsize=16)\n",
        "    plt.ylabel('Loss', fontsize=16)\n",
        "    plt.show()\n",
        "    \n",
        "    return w1, b1, w2, b2, wOut, bOut, mu"
      ],
      "metadata": {
        "id": "KnsIo-U4hedP"
      },
      "execution_count": 26,
      "outputs": []
    },
    {
      "cell_type": "code",
      "source": [
        "w1, b1, w2, b2, wOut, bOut, mu = ANN_train(X_train, Y_train, p=8, q=4, eta=0.0015)"
      ],
      "metadata": {
        "colab": {
          "base_uri": "https://localhost:8080/",
          "height": 578
        },
        "id": "cfDzVEMZhqWA",
        "outputId": "bc041533-32d2-4431-afae-4cf474dbcbef"
      },
      "execution_count": 27,
      "outputs": [
        {
          "output_type": "display_data",
          "data": {
            "text/plain": [
              "<Figure size 1000x600 with 1 Axes>"
            ],
            "image/png": "[encoded data removed]"
          },
          "metadata": {}
        }
      ]
    },
    {
      "cell_type": "markdown",
      "source": [
        "Compute Predictions\n",
        "\n",
        "\n",
        "i now have to compute predictions from my trained ANN. In order to do so i need to recall the trained parameters  {w},{b}\n",
        "  and use them to actually get the predictions."
      ],
      "metadata": {
        "id": "YPqCD7Prhw25"
      }
    },
    {
      "cell_type": "code",
      "source": [
        "def ANN_pred(X_test, w1, b1, w2, b2, wOut, bOut, mu):\n",
        "    import numpy as np\n",
        "    \n",
        "    pred = []\n",
        "    \n",
        "    for I in range(0, X_test.shape[0]): #loop in all the passengers\n",
        "        # 1: input the data \n",
        "        x = X_test[I]\n",
        "        \n",
        "        # 2.1: Feed forward\n",
        "        z1 = ReLU_act(np.dot(w1, x) + b1) # output layer 1 \n",
        "        z2 = ReLU_act(np.dot(w2, z1) + b2) # output layer 2\n",
        "        y = sigmoid_act(np.dot(wOut, z2) + bOut)  # Output of the Output layer\n",
        "        \n",
        "        # Append the prediction;\n",
        "        # We now need a binary classifier; we this apply an Heaviside Theta and we set to 0.5 the threshold\n",
        "        # if y < 0.5 the output is zero, otherwise is 1\n",
        "        pred.append( np.heaviside(y - 0.5, 1)[0] )\n",
        "    \n",
        "    \n",
        "    return np.array(pred);"
      ],
      "metadata": {
        "id": "9-hFapRBh4Br"
      },
      "execution_count": 28,
      "outputs": []
    },
    {
      "cell_type": "code",
      "source": [
        "predictions = ANN_pred(X_test, w1, b1, w2, b2, wOut, bOut, mu)"
      ],
      "metadata": {
        "id": "cXdHabq9iC33"
      },
      "execution_count": 29,
      "outputs": []
    },
    {
      "cell_type": "markdown",
      "source": [
        "Evaluation report"
      ],
      "metadata": {
        "id": "Ibt8V9MgiHYY"
      }
    },
    {
      "cell_type": "code",
      "source": [
        "# Plot the confusion matrix\n",
        "cm = confusion_matrix(Y_test, predictions)\n",
        "\n",
        "df_cm = pd.DataFrame(cm, index = [dict_live[i] for i in range(0,2)], columns = [dict_live[i] for i in range(0,2)])\n",
        "plt.figure(figsize = (7,7))\n",
        "sns.heatmap(df_cm, annot=True, cmap=plt.cm.Blues, fmt='g')\n",
        "plt.xlabel(\"Predicted Class\", fontsize=18)\n",
        "plt.ylabel(\"True Class\", fontsize=18)\n",
        "plt.show()"
      ],
      "metadata": {
        "colab": {
          "base_uri": "https://localhost:8080/",
          "height": 629
        },
        "id": "d9CMdzPoiQ5O",
        "outputId": "605c4f60-db51-49f1-9f00-d7eee02870c5"
      },
      "execution_count": 31,
      "outputs": [
        {
          "output_type": "display_data",
          "data": {
            "text/plain": [
              "<Figure size 700x700 with 2 Axes>"
            ],
            "image/png": "[encoded data removed]"
          },
          "metadata": {}
        }
      ]
    }
  ]
}